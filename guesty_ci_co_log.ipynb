{
 "cells": [
  {
   "cell_type": "code",
   "execution_count": 6,
   "metadata": {},
   "outputs": [
    {
     "output_type": "execute_result",
     "data": {
      "text/plain": [
       "False"
      ]
     },
     "metadata": {},
     "execution_count": 6
    }
   ],
   "source": [
    "from pytz import timezone, UTC\n",
    "from datetime import datetime\n",
    "import os\n",
    "import requests\n",
    "\n",
    "env_vars = !cat .env\n",
    "for var in env_vars:\n",
    "    key, value = var.split('=')\n",
    "    os.environ[key] = value\n",
    "\n",
    "GUESTY_USER = os.environ.get(\"GUESTY_USER_KEY\", None)\n",
    "GUESTY_PASSWORD = os.environ.get(\"GUESTY_USER_PASSWORD\", None)\n",
    "\n",
    "GUESTY_PASSWORD is None"
   ]
  },
  {
   "cell_type": "code",
   "execution_count": null,
   "metadata": {},
   "outputs": [],
   "source": []
  }
 ],
 "metadata": {
  "kernelspec": {
   "name": "python3",
   "display_name": "Python 3.8.2 64-bit ('env')",
   "metadata": {
    "interpreter": {
     "hash": "6c9ab5f1b8ad874f3c342b7ee9f3b7e87fe8fefe171152335ff74e1c7ca0f7d2"
    }
   }
  }
 },
 "nbformat": 4,
 "nbformat_minor": 5
}